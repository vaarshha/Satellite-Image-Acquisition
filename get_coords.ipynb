{
  "cells": [
    {
      "cell_type": "markdown",
      "metadata": {
        "id": "9C1K7zedJ-Y3"
      },
      "source": [
        "[To get polygon](https://nominatim.openstreetmap.org/ui/search.html)\n",
        "\n",
        "\n",
        "---\n",
        "\n",
        "\n",
        "[To get coordinates](http://polygons.openstreetmap.fr/index.py)"
      ]
    },
    {
      "cell_type": "code",
      "execution_count": null,
      "metadata": {
        "colab": {
          "base_uri": "https://localhost:8080/"
        },
        "id": "x7WCS-buamce",
        "outputId": "cd886233-9d88-44a1-f8bc-68ee9d868264"
      },
      "outputs": [
        {
          "name": "stdout",
          "output_type": "stream",
          "text": [
            "Mounted at /content/drive\n"
          ]
        }
      ],
      "source": [
        "from google.colab import drive\n",
        "drive.mount('/content/drive', force_remount=False)"
      ]
    },
    {
      "cell_type": "code",
      "execution_count": null,
      "metadata": {
        "id": "ZIlIQrY6Qo_N"
      },
      "outputs": [],
      "source": [
        "# Importing Modules\n",
        "import numpy as np\n",
        "import random\n",
        "# Use 'conda install shapely' to import the shapely library.\n",
        "from shapely.geometry import Polygon, Point\n",
        "\n",
        "import csv\n",
        "import pandas as pd\n"
      ]
    },
    {
      "cell_type": "code",
      "execution_count": null,
      "metadata": {
        "id": "9yTRfLepog9c"
      },
      "outputs": [],
      "source": [
        "# CSV file has the boundary points\n",
        "with open('Boundaries.csv', 'r', encoding='UTF8') as f:\n",
        "    csvFile = csv.reader(f)\n",
        "    coordinates = []\n",
        "    # reading the contents of the CSV file\n",
        "    for lines in csvFile:\n",
        "      x,y = round(float(lines[0]),4),round(float(lines[1]),4)\n",
        "      coordinates.append((x,y))\n"
      ]
    },
    {
      "cell_type": "markdown",
      "metadata": {},
      "source": [
        "Code to get the points is from this [article](https://medium.com/the-data-journal/a-quick-trick-to-create-random-lat-long-coordinates-in-python-within-a-defined-polygon-e8997f05123a)"
      ]
    },
    {
      "cell_type": "code",
      "execution_count": null,
      "metadata": {
        "id": "J6lvw1drQt0d"
      },
      "outputs": [],
      "source": [
        "## Making an object of class Polygon with the specified coordinates\n",
        "poly = Polygon(coordinates)"
      ]
    },
    {
      "cell_type": "code",
      "execution_count": null,
      "metadata": {
        "id": "vFPOWmjfR38e"
      },
      "outputs": [],
      "source": [
        "## Generates random points\n",
        "def polygon_random_points (poly, num_points):\n",
        "    min_x, min_y, max_x, max_y = poly.bounds\n",
        "    points = []\n",
        "    while len(points) < num_points:\n",
        "            random_point = Point([random.uniform(min_x, max_x), random.uniform(min_y, max_y)])\n",
        "            if (random_point.within(poly)):\n",
        "                points.append(random_point)\n",
        "    return points"
      ]
    },
    {
      "cell_type": "code",
      "execution_count": null,
      "metadata": {
        "id": "9zm2EVHTSIJF"
      },
      "outputs": [],
      "source": [
        "# Choose the number of points desired\n",
        "points = polygon_random_points(poly,40)"
      ]
    },
    {
      "cell_type": "code",
      "execution_count": null,
      "metadata": {
        "colab": {
          "base_uri": "https://localhost:8080/"
        },
        "id": "hGbZNA1eSzXg",
        "outputId": "bf0e007e-a0c1-496a-8f6a-081ed7adc2c6"
      },
      "outputs": [
        {
          "name": "stdout",
          "output_type": "stream",
          "text": [
            "9.444405806622562 , 77.90198101974634\n",
            "9.469773932765868 , 77.96865092806178\n",
            "9.516048924452518 , 77.85288899353085\n",
            "9.626899447917058 , 77.9856133088102\n",
            "9.574882036886715 , 77.9465054604212\n",
            "9.519559714170613 , 78.02479186751133\n",
            "9.45571693427565 , 77.90669408646865\n",
            "9.47095221441255 , 77.91186737830738\n",
            "9.546885270338558 , 77.92190033655778\n",
            "9.449256962762075 , 77.90087509961216\n",
            "9.468233849084548 , 77.95091134527208\n",
            "9.419883944348893 , 78.0270887834472\n",
            "9.580278525538098 , 77.8522617632789\n",
            "9.621624298681427 , 78.00193842622657\n",
            "9.623170810512724 , 77.97153006133114\n",
            "9.452283415985749 , 77.97860306919584\n",
            "9.477809740519136 , 77.96761651580923\n",
            "9.540613488092445 , 77.8648061529365\n",
            "9.466250372135079 , 77.85454960591345\n",
            "9.450331459499052 , 77.95135430574373\n",
            "9.461710863902425 , 77.9318495534141\n",
            "9.6168192351573 , 77.94760592602962\n",
            "9.605725235252832 , 77.83364142407166\n",
            "9.555834453055517 , 77.88875775100274\n",
            "9.584059714744864 , 77.9797867090453\n",
            "9.490814398168515 , 77.91813767136851\n",
            "9.537051979074752 , 77.8193523940188\n",
            "9.523263998904243 , 78.00283624212167\n",
            "9.516477013455622 , 77.82948355417851\n",
            "9.44374582036726 , 77.99859681967001\n",
            "9.52036473494408 , 77.90805983512126\n",
            "9.44569746748256 , 77.98513290416503\n",
            "9.514908689667521 , 77.83551780786323\n",
            "9.508945673832859 , 77.93970839858524\n",
            "9.593187334211418 , 77.96548748422487\n",
            "9.562253245361903 , 77.96481396376157\n",
            "9.51982183063937 , 78.03171317274752\n",
            "9.537507956797729 , 77.83958652439581\n",
            "9.523596446928174 , 77.82713554840723\n",
            "9.425949032236808 , 77.97199698479064\n"
          ]
        }
      ],
      "source": [
        "## Defining the columns of the csv file\n",
        "header = ['id','X','Y']\n",
        "\n",
        "# file to write the coordinates\n",
        "with open('coordinates.csv', 'w', encoding='UTF8') as f:\n",
        "    writer = csv.writer(f)\n",
        "\n",
        "    # write the header\n",
        "    writer.writerow(header)\n",
        "    i=0\n",
        "    for p in points:\n",
        "      print(p.x,\",\",p.y)\n",
        "      data = [i,round(p.x,4),round(p.y,4)]\n",
        "      writer.writerow(data)\n",
        "      i+=1\n"
      ]
    }
  ],
  "metadata": {
    "colab": {
      "provenance": []
    },
    "kernelspec": {
      "display_name": "Python 3",
      "name": "python3"
    },
    "language_info": {
      "name": "python"
    }
  },
  "nbformat": 4,
  "nbformat_minor": 0
}
